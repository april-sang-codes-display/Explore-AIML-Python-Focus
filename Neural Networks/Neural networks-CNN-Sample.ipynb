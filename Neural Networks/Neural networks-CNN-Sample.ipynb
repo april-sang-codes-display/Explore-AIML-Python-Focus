{
 "cells": [
  {
   "cell_type": "markdown",
   "metadata": {
    "colab_type": "text",
    "id": "Ti4jYk_NSJyu"
   },
   "source": [
    "# Convolutional Neural Networks with PyTorch CNN"
   ]
  },
  {
   "cell_type": "markdown",
   "metadata": {
    "colab_type": "text",
    "id": "-UCXtW7lSJyz"
   },
   "source": [
    "Reference:\n",
    "\n",
    "* `torch.nn` documentation http://pytorch.org/docs/master/nn.html\n",
    "* Convolution animations. Make sure to understand these animations so you can visualize stride, padding, etc. https://github.com/vdumoulin/conv_arithmetic/blob/master/README.md\n",
    "* If you want to look at something more complicated, check out the ResNet implementation in torchvision: https://github.com/pytorch/vision/blob/master/torchvision/models/resnet.py"
   ]
  },
  {
   "cell_type": "code",
   "execution_count": 2,
   "metadata": {
    "colab": {},
    "colab_type": "code",
    "id": "e1mAJyfbSJy0"
   },
   "outputs": [],
   "source": [
    "import torch\n",
    "import torch.nn.functional as F\n",
    "from torch import autograd, nn\n",
    "from torch.autograd import Variable\n",
    "import numpy as np\n",
    "import matplotlib.pyplot as plt\n",
    "from torchvision import transforms, datasets"
   ]
  },
  {
   "cell_type": "markdown",
   "metadata": {
    "colab_type": "text",
    "id": "yLzWNO7nSJy6"
   },
   "source": [
    "## Data Format"
   ]
  },
  {
   "cell_type": "markdown",
   "metadata": {
    "colab_type": "text",
    "id": "bGU4BfdVSJy7"
   },
   "source": [
    "Dimension ordering is very important. For pytorch:\n",
    "\n",
    "* 2D data like images should be `(samples, channels, height, width)` sometimes called \"NCHW\" or \"channels first\"\n",
    "* 1D data like stock prices should be `(samples, channels, time)`\n",
    "* 2D filters should be `(out_channels, in_channels, height, width)`\n",
    "* 1D filters should be `(out_channels, in_channels, time)`\n",
    "\n",
    "Different frameworks (e.g., TensorFlow) use different dimension orderings so be very careful, especially when implementing code or reading data targeted at a different framework.\n",
    "\n",
    "Note most image data is RGB but some is BGR  or ARGB."
   ]
  },
  {
   "cell_type": "code",
   "execution_count": 3,
   "metadata": {
    "colab": {
     "base_uri": "https://localhost:8080/",
     "height": 51
    },
    "colab_type": "code",
    "id": "XrbQgOImSJy9",
    "outputId": "c2d12677-4568-4d59-9093-ea7d4c1fc271"
   },
   "outputs": [
    {
     "name": "stdout",
     "output_type": "stream",
     "text": [
      "torch.Size([1, 3, 32, 32])\n",
      "torch.Size([1, 40, 100])\n"
     ]
    }
   ],
   "source": [
    "input_image = autograd.Variable(torch.randn(1,3,32,32)) # single 32x32 RGB image\n",
    "print(input_image.size())\n",
    "input_signal = autograd.Variable(torch.randn(1,40,100)) # 40 dimensional signal for 100 timesteps\n",
    "print(input_signal.size())"
   ]
  },
  {
   "cell_type": "markdown",
   "metadata": {
    "colab_type": "text",
    "id": "QyckDsMTSJzD"
   },
   "source": [
    "## Convolutional Layers"
   ]
  },
  {
   "cell_type": "markdown",
   "metadata": {
    "colab_type": "text",
    "id": "uqknLcM6SJzE"
   },
   "source": [
    "The `torch.nn` module provides layers for CNNs. Use in the same way as other modules. Please refer to the documentation for details. Some of the most common layers you will use:\n",
    "\n",
    "* `torch.nn.Conv2d`\n",
    "* `torch.nn.ConvTranspose2d`\n",
    "* `torch.nn.MaxPool2d`\n",
    "* `torch.nn.AvgPool2d`\n"
   ]
  },
  {
   "cell_type": "code",
   "execution_count": 4,
   "metadata": {
    "colab": {},
    "colab_type": "code",
    "id": "OlHjCz4ESJzF"
   },
   "outputs": [],
   "source": [
    "# Create layers\n",
    "layer_c2d = torch.nn.Conv2d(in_channels=3, out_channels=20, kernel_size=5, stride=1, padding=2)\n",
    "layer_avg = torch.nn.AvgPool2d(kernel_size=32)"
   ]
  },
  {
   "cell_type": "code",
   "execution_count": 5,
   "metadata": {
    "colab": {
     "base_uri": "https://localhost:8080/",
     "height": 34
    },
    "colab_type": "code",
    "id": "h31ed0W8SJzI",
    "outputId": "e884fafe-1961-44c4-b7cc-9ae75acc3ced"
   },
   "outputs": [
    {
     "name": "stdout",
     "output_type": "stream",
     "text": [
      "torch.Size([1, 20, 32, 32])\n"
     ]
    }
   ],
   "source": [
    "# Use layers directly\n",
    "y = layer_c2d(input_image)\n",
    "print(y.size())"
   ]
  },
  {
   "cell_type": "code",
   "execution_count": 6,
   "metadata": {
    "colab": {
     "base_uri": "https://localhost:8080/",
     "height": 34
    },
    "colab_type": "code",
    "id": "MzgjDWpOSJzN",
    "outputId": "d1c4502d-a78f-44ca-8ba1-cf5c8769c522"
   },
   "outputs": [
    {
     "name": "stdout",
     "output_type": "stream",
     "text": [
      "torch.Size([1, 20, 1, 1])\n"
     ]
    }
   ],
   "source": [
    "# Add layers to model\n",
    "model = torch.nn.Sequential(layer_avg, layer_c2d)\n",
    "y = model(input_image)\n",
    "print(y.size())"
   ]
  },
  {
   "cell_type": "markdown",
   "metadata": {
    "colab_type": "text",
    "id": "gEQrgJWCSJzQ"
   },
   "source": [
    "## Convolutional Functions"
   ]
  },
  {
   "cell_type": "markdown",
   "metadata": {
    "colab_type": "text",
    "id": "61_tagEvSJzS"
   },
   "source": [
    "The `torch.nn.functional` module provides low-level functions. Depending on what kinds of models you are making, you may never have to use these functions, and use pre-made layers instead. When using the functional module, you need to instantiate parameters yourself.\n",
    "\n",
    "http://pytorch.org/docs/0.1.12/nn.html#torch-nn-functional\n",
    "\n",
    "Example low-level functions:\n",
    "\n",
    "* `F.max_pool2d`\n",
    "* `F.dropout2d`\n",
    "* `F.conv2d`"
   ]
  },
  {
   "cell_type": "code",
   "execution_count": 7,
   "metadata": {
    "colab": {
     "base_uri": "https://localhost:8080/",
     "height": 34
    },
    "colab_type": "code",
    "id": "qIdS3aSnSJzT",
    "outputId": "42ee0698-4646-4a55-dc35-4d547691e06d"
   },
   "outputs": [
    {
     "name": "stdout",
     "output_type": "stream",
     "text": [
      "torch.Size([1, 20, 32, 32])\n"
     ]
    }
   ],
   "source": [
    "filters = autograd.Variable(torch.randn(20,3,5,5)) # 5x5 filter from 3 dimensions to 20\n",
    "y=F.conv2d(input_image, filters, padding=2)\n",
    "print(y.size())"
   ]
  },
  {
   "cell_type": "code",
   "execution_count": 8,
   "metadata": {
    "colab": {
     "base_uri": "https://localhost:8080/",
     "height": 34
    },
    "colab_type": "code",
    "id": "WvmmSlvOSJzX",
    "outputId": "c2bd66d0-768d-4663-ba66-cae145d007a5"
   },
   "outputs": [
    {
     "name": "stdout",
     "output_type": "stream",
     "text": [
      "torch.Size([1, 256, 100])\n"
     ]
    }
   ],
   "source": [
    "filters = autograd.Variable(torch.randn(256,40,5)) # 5 wide filter from 40 dimensions to 256\n",
    "y=F.conv1d(input_signal, filters, padding=2)\n",
    "print(y.size())"
   ]
  },
  {
   "cell_type": "markdown",
   "metadata": {
    "colab_type": "text",
    "id": "yL-JqNGeSJzb"
   },
   "source": [
    "For example, if you generate the kernel using a neural network, you will have to use the functional module instead of a standard convolutional layer."
   ]
  },
  {
   "cell_type": "markdown",
   "metadata": {
    "colab_type": "text",
    "id": "KeuXp35SSJzc"
   },
   "source": [
    "## Padding"
   ]
  },
  {
   "cell_type": "markdown",
   "metadata": {
    "colab_type": "text",
    "id": "nVe9SsxrSJzd"
   },
   "source": [
    "Simple 0-padding can be accomplished using the `padding` keyword argument of many functions. Normally, you will be using the same vertical and horizontal padding but you can also pass a tuple `(H,W)`. Padding is applied symmetrically."
   ]
  },
  {
   "cell_type": "code",
   "execution_count": 9,
   "metadata": {
    "colab": {
     "base_uri": "https://localhost:8080/",
     "height": 102
    },
    "colab_type": "code",
    "id": "WrhsnzpBSJze",
    "outputId": "70c9589c-1d4f-4f37-db19-7a42be64e45d"
   },
   "outputs": [
    {
     "name": "stdout",
     "output_type": "stream",
     "text": [
      "torch.Size([1, 20, 26, 26])\n",
      "torch.Size([1, 20, 28, 28])\n",
      "torch.Size([1, 20, 30, 30])\n",
      "torch.Size([1, 20, 32, 32])\n",
      "torch.Size([1, 20, 26, 32])\n"
     ]
    }
   ],
   "source": [
    "inputs = autograd.Variable(torch.randn(1,3,32,32)) # single 32x32 RGB image\n",
    "print(torch.nn.Conv2d(in_channels=3, out_channels=20, kernel_size=7, padding=0)(inputs).size())\n",
    "print(torch.nn.Conv2d(in_channels=3, out_channels=20, kernel_size=7, padding=1)(inputs).size())\n",
    "print(torch.nn.Conv2d(in_channels=3, out_channels=20, kernel_size=7, padding=2)(inputs).size())\n",
    "print(torch.nn.Conv2d(in_channels=3, out_channels=20, kernel_size=7, padding=3)(inputs).size())\n",
    "print(torch.nn.Conv2d(in_channels=3, out_channels=20, kernel_size=7, padding=(0,3))(inputs).size())"
   ]
  },
  {
   "cell_type": "markdown",
   "metadata": {
    "colab_type": "text",
    "id": "1XYSLFDcSJzj"
   },
   "source": [
    "For more complicated padding, use a padding layer before your convolution.\n",
    "\n",
    "* Single int: apply to all sides\n",
    "* tuple (H,W): apply H to top and bottom, W to left and right\n",
    "* tuple (left, right, top, bottom)"
   ]
  },
  {
   "cell_type": "code",
   "execution_count": 10,
   "metadata": {
    "colab": {
     "base_uri": "https://localhost:8080/",
     "height": 34
    },
    "colab_type": "code",
    "id": "GaC-D7k-SJzm",
    "outputId": "5bed12ab-7240-46d6-a585-ee8777887a26"
   },
   "outputs": [
    {
     "name": "stdout",
     "output_type": "stream",
     "text": [
      "torch.Size([1, 20, 32, 32])\n"
     ]
    }
   ],
   "source": [
    "inputs = autograd.Variable(torch.randn(1,3,32,32)) # single 32x32 RGB image\n",
    "y = torch.nn.Conv2d(3, 20, 7)(torch.nn.ReplicationPad2d(3)(inputs))\n",
    "print(y.size())"
   ]
  },
  {
   "cell_type": "markdown",
   "metadata": {
    "colab_type": "text",
    "id": "mkJlTfFUSJzr"
   },
   "source": [
    "Common padding layers:\n",
    "\n",
    "* torch.nn.ReplicationPad2d\n",
    "* torch.nn.ReflectionPad2d\n",
    "* torch.nn.ZeroPad2d\n",
    "* torch.nn.ConstantPad2d"
   ]
  },
  {
   "cell_type": "markdown",
   "metadata": {
    "colab_type": "text",
    "id": "IgZFMlwUSJzs"
   },
   "source": [
    "## Normalization and Dropout"
   ]
  },
  {
   "cell_type": "markdown",
   "metadata": {
    "colab_type": "text",
    "id": "OQj0quvGSJzt"
   },
   "source": [
    "Don't forget BatchNorm2d and Dropout2d if you want to improve performance!"
   ]
  },
  {
   "cell_type": "code",
   "execution_count": 11,
   "metadata": {
    "colab": {
     "base_uri": "https://localhost:8080/",
     "height": 34
    },
    "colab_type": "code",
    "id": "8qbNZ8IESJzu",
    "outputId": "8403c636-3cab-48c1-d2a7-a4173967847e"
   },
   "outputs": [
    {
     "name": "stdout",
     "output_type": "stream",
     "text": [
      "torch.Size([1, 20, 32, 32])\n"
     ]
    }
   ],
   "source": [
    "h = nn.Conv2d(3, 20, 5, padding=2)(input_image)\n",
    "h = nn.BatchNorm2d(20)(h)\n",
    "h = F.relu(h)\n",
    "h = nn.Dropout2d(0.5)(h)\n",
    "print(h.size())"
   ]
  },
  {
   "cell_type": "markdown",
   "metadata": {
    "colab_type": "text",
    "id": "8Bz0fY56SJzy"
   },
   "source": [
    "## Downsampling"
   ]
  },
  {
   "cell_type": "markdown",
   "metadata": {
    "colab_type": "text",
    "id": "HGFRuWwXSJz0"
   },
   "source": [
    "You can downsample using pooling operations or strided convolutions."
   ]
  },
  {
   "cell_type": "code",
   "execution_count": 12,
   "metadata": {
    "colab": {
     "base_uri": "https://localhost:8080/",
     "height": 51
    },
    "colab_type": "code",
    "id": "2P1zlkDASJz1",
    "outputId": "80abe059-2bab-4424-906d-43a51a7c776f"
   },
   "outputs": [
    {
     "name": "stdout",
     "output_type": "stream",
     "text": [
      "torch.Size([1, 3, 16, 16])\n",
      "torch.Size([1, 3, 16, 16])\n"
     ]
    }
   ],
   "source": [
    "# Simple pooling operations\n",
    "print(nn.MaxPool2d(2)(input_image).size())\n",
    "print(nn.AvgPool2d(2)(input_image).size())"
   ]
  },
  {
   "cell_type": "code",
   "execution_count": 13,
   "metadata": {
    "colab": {
     "base_uri": "https://localhost:8080/",
     "height": 34
    },
    "colab_type": "code",
    "id": "1rDjUtIySJz7",
    "outputId": "58aa5032-1dc3-421d-b531-f67c9c8265fa"
   },
   "outputs": [
    {
     "name": "stdout",
     "output_type": "stream",
     "text": [
      "torch.Size([1, 20, 16, 16])\n"
     ]
    }
   ],
   "source": [
    "# Strided convolution\n",
    "layer = torch.nn.Conv2d(in_channels=3, out_channels=20, kernel_size=5, stride=2, padding=2)\n",
    "print(layer(input_image).size())"
   ]
  },
  {
   "cell_type": "markdown",
   "metadata": {
    "colab_type": "text",
    "id": "FjtNTA1WSJ0Q"
   },
   "source": [
    "## Reading Image Data"
   ]
  },
  {
   "cell_type": "markdown",
   "metadata": {
    "colab_type": "text",
    "id": "2aK0T3luSJ0R"
   },
   "source": [
    "Reference:\n",
    "http://pytorch.org/tutorials/beginner/data_loading_tutorial.html\n",
    "\n",
    "**Warning** `skimage`, `Pillow` and `matplotlib` expect (H, W, channels). Make sure to transpose dimensions when going to and from pytorch."
   ]
  },
  {
   "cell_type": "code",
   "execution_count": 14,
   "metadata": {
    "colab": {},
    "colab_type": "code",
    "id": "10IXVmO4SJ0S",
    "scrolled": true
   },
   "outputs": [
    {
     "name": "stdout",
     "output_type": "stream",
     "text": [
      "(693, 1024, 3)\n"
     ]
    },
    {
     "data": {
      "image/png": "[encoded data removed]",
      "text/plain": [
       "<Figure size 432x288 with 1 Axes>"
      ]
     },
     "metadata": {},
     "output_type": "display_data"
    }
   ],
   "source": [
    "# Read an image using skimage\n",
    "from skimage import io\n",
    "image = io.imread('https://mk0slamonlinensgt39k.kinstacdn.com/wp-content/uploads/2019/02/GettyImages-1130407055.jpg') # Add the path to your image\n",
    "print(image.shape)\n",
    "# Display an image\n",
    "plt.imshow(image)\n",
    "plt.show()"
   ]
  },
  {
   "cell_type": "markdown",
   "metadata": {
    "colab_type": "text",
    "id": "oHLVpCz7SJ0h"
   },
   "source": [
    "## Basic Pytorch Model"
   ]
  },
  {
   "cell_type": "code",
   "execution_count": 15,
   "metadata": {
    "colab": {},
    "colab_type": "code",
    "id": "sPiFAc16SJ0h"
   },
   "outputs": [
    {
     "name": "stdout",
     "output_type": "stream",
     "text": [
      "<__main__.BasicCNNModule object at 0x81bef6860>\n"
     ]
    }
   ],
   "source": [
    "class BasicCNNModule():\n",
    "        def __init__(self, in_feature, num_class):\n",
    "\n",
    "            self.conv1 = nn.Conv2d(in_feature, in_feature*2,\n",
    "                        kernel_size=5, stride=1)\n",
    "            self.conv2 = nn.Conv2d(in_feature*2, in_feature*2,\n",
    "                        kernel_size=6, stride=2)\n",
    "\n",
    "            self.act1 = nn.Tanh()\n",
    "            self.act2 = nn.ReLU()\n",
    "            self.linear = nn.Linear(in_feature*10, num_class)\n",
    "\n",
    "            self.__layers = [self.conv1, self.act1,\n",
    "                           self.conv2, self.act2,\n",
    "                           self.linear]\n",
    "\n",
    "        def forward(self, x):\n",
    "            for layer in self.__layers:\n",
    "                x = layer(x)\n",
    "\n",
    "            return x\n",
    "        \n",
    "        def backward(self, delta):\n",
    "            n = len(self.__layers)\n",
    "\n",
    "            for i in self.__layers[::-1]:\n",
    "                delta = self.__layers[i].backward(delta)\n",
    "\n",
    "            return\n",
    "        \n",
    "print(BasicCNNModule(100, 10))"
   ]
  },
  {
   "cell_type": "code",
   "execution_count": 16,
   "metadata": {},
   "outputs": [
    {
     "name": "stdout",
     "output_type": "stream",
     "text": [
      "<__main__.BasicCNNModule object at 0x81bef85f8>\n"
     ]
    }
   ],
   "source": [
    "class ConvNet(nn.Module):\n",
    "        def __init__(self):\n",
    "            super(ConvNet, self).__init__()\n",
    "            self.layer1 = nn.Sequential(\n",
    "                nn.Conv2d(1, 32, kernel_size=5, stride=1, padding=2),\n",
    "                nn.ReLU(),\n",
    "                nn.MaxPool2d(kernel_size=2, stride=2))\n",
    "            self.layer2 = nn.Sequential(\n",
    "                nn.Conv2d(32, 64, kernel_size=5, stride=1, padding=2),\n",
    "                nn.ReLU(),\n",
    "                nn.MaxPool2d(kernel_size=2, stride=2))\n",
    "            self.drop_out = nn.Dropout()\n",
    "            self.fc1 = nn.Linear(7 * 7 * 64, 1000)\n",
    "            self.fc2 = nn.Linear(1000, 10)\n",
    "\n",
    "        def forward(self, x):\n",
    "            out = self.layer1(x)\n",
    "            out = self.layer2(out)\n",
    "            out = out.reshape(out.size(0), -1)\n",
    "            out = self.drop_out(out)\n",
    "            out = self.fc1(out)\n",
    "            out = self.fc2(out)\n",
    "            return out\n",
    "        \n",
    "        def backward(self, delta):\n",
    "            n = len(self.__layers)\n",
    "\n",
    "            for i in self.__layers[::-1]:\n",
    "                delta = self.__layers[i].backward(delta)\n",
    "\n",
    "            return\n",
    "        \n",
    "print(BasicCNNModule(100, 10))"
   ]
  },
  {
   "cell_type": "markdown",
   "metadata": {
    "colab_type": "text",
    "id": "5pZdgCeUIZYk"
   },
   "source": [
    "# Coding Task 1 (25 Points)\n",
    "\n",
    "## Now write a piece of code to train the above designed CNN Model using MNIST images. You can modify the architecture of the network as well if you would like.\n",
    "\n",
    "\n",
    "MNIST Images: http://yann.lecun.com/exdb/mnist/\n",
    "A very useful blog for this lab would be https://adventuresinmachinelearning.com/convolutional-neural-networks-tutorial-in-pytorch/ to get the full model running.\n",
    "\n",
    "*Part marks will be awarded for partially working code\n",
    "\n",
    "#### Feel free to use any online resource to complete this task, just make sure your put the link to all the resources that you used to solve this part of the assignment."
   ]
  },
  {
   "cell_type": "code",
   "execution_count": 17,
   "metadata": {
    "colab": {},
    "colab_type": "code",
    "id": "WKu312hxOSdE"
   },
   "outputs": [
    {
     "name": "stdout",
     "output_type": "stream",
     "text": [
      "Downloading http://yann.lecun.com/exdb/mnist/train-images-idx3-ubyte.gz to ./data/MNIST/raw/train-images-idx3-ubyte.gz\n"
     ]
    },
    {
     "name": "stderr",
     "output_type": "stream",
     "text": [
      "100.1%"
     ]
    },
    {
     "name": "stdout",
     "output_type": "stream",
     "text": [
      "Extracting ./data/MNIST/raw/train-images-idx3-ubyte.gz\n"
     ]
    },
    {
     "name": "stderr",
     "output_type": "stream",
     "text": [
      "28.4%"
     ]
    },
    {
     "name": "stdout",
     "output_type": "stream",
     "text": [
      "Downloading http://yann.lecun.com/exdb/mnist/train-labels-idx1-ubyte.gz to ./data/MNIST/raw/train-labels-idx1-ubyte.gz\n"
     ]
    },
    {
     "name": "stderr",
     "output_type": "stream",
     "text": [
      "0.5%5%"
     ]
    },
    {
     "name": "stdout",
     "output_type": "stream",
     "text": [
      "Extracting ./data/MNIST/raw/train-labels-idx1-ubyte.gz\n",
      "Downloading http://yann.lecun.com/exdb/mnist/t10k-images-idx3-ubyte.gz to ./data/MNIST/raw/t10k-images-idx3-ubyte.gz\n"
     ]
    },
    {
     "name": "stderr",
     "output_type": "stream",
     "text": [
      "100.4%"
     ]
    },
    {
     "name": "stdout",
     "output_type": "stream",
     "text": [
      "Extracting ./data/MNIST/raw/t10k-images-idx3-ubyte.gz\n",
      "Downloading http://yann.lecun.com/exdb/mnist/t10k-labels-idx1-ubyte.gz to ./data/MNIST/raw/t10k-labels-idx1-ubyte.gz\n"
     ]
    },
    {
     "name": "stderr",
     "output_type": "stream",
     "text": [
      "180.4%"
     ]
    },
    {
     "name": "stdout",
     "output_type": "stream",
     "text": [
      "Extracting ./data/MNIST/raw/t10k-labels-idx1-ubyte.gz\n",
      "Processing...\n",
      "Done!\n"
     ]
    }
   ],
   "source": [
    "from torchvision.datasets import MNIST\n",
    "\n",
    "num_epochs = 5\n",
    "num_classes = 10\n",
    "batch_size = 100\n",
    "learning_rate = 0.001\n",
    "\n",
    "# transforms to apply to the data\n",
    "trans = transforms.Compose([transforms.ToTensor(), transforms.Normalize((0.1307,), (0.3081,))])\n",
    "\n",
    "# MNIST dataset\n",
    "train_dataset = MNIST('./data', train=True, transform=trans, download=True)\n",
    "test_dataset = MNIST('./data', train=False, transform=trans)"
   ]
  },
  {
   "cell_type": "code",
   "execution_count": 18,
   "metadata": {},
   "outputs": [],
   "source": [
    "from torch.utils.data import DataLoader\n",
    "train_loader = DataLoader(dataset=train_dataset, batch_size=batch_size, shuffle=True)\n",
    "test_loader = DataLoader(dataset=test_dataset, batch_size=batch_size, shuffle=False)"
   ]
  },
  {
   "cell_type": "code",
   "execution_count": 19,
   "metadata": {},
   "outputs": [],
   "source": [
    "model = ConvNet()\n",
    "\n",
    "# Loss and optimizer\n",
    "criterion = nn.CrossEntropyLoss()\n",
    "optimizer = torch.optim.Adam(model.parameters(), lr=learning_rate)"
   ]
  },
  {
   "cell_type": "code",
   "execution_count": 20,
   "metadata": {},
   "outputs": [
    {
     "name": "stdout",
     "output_type": "stream",
     "text": [
      "Epoch [1/5], Step [100/600], Loss: 0.1250, Accuracy: 95.00%\n",
      "Epoch [1/5], Step [200/600], Loss: 0.1816, Accuracy: 96.00%\n",
      "Epoch [1/5], Step [300/600], Loss: 0.1037, Accuracy: 96.00%\n",
      "Epoch [1/5], Step [400/600], Loss: 0.1164, Accuracy: 96.00%\n",
      "Epoch [1/5], Step [500/600], Loss: 0.1105, Accuracy: 95.00%\n",
      "Epoch [1/5], Step [600/600], Loss: 0.0973, Accuracy: 95.00%\n",
      "Epoch [2/5], Step [100/600], Loss: 0.1760, Accuracy: 95.00%\n",
      "Epoch [2/5], Step [200/600], Loss: 0.3880, Accuracy: 96.00%\n",
      "Epoch [2/5], Step [300/600], Loss: 0.1507, Accuracy: 98.00%\n",
      "Epoch [2/5], Step [400/600], Loss: 0.0711, Accuracy: 97.00%\n",
      "Epoch [2/5], Step [500/600], Loss: 0.1137, Accuracy: 94.00%\n",
      "Epoch [2/5], Step [600/600], Loss: 0.1104, Accuracy: 97.00%\n",
      "Epoch [3/5], Step [100/600], Loss: 0.0849, Accuracy: 98.00%\n",
      "Epoch [3/5], Step [200/600], Loss: 0.0653, Accuracy: 98.00%\n",
      "Epoch [3/5], Step [300/600], Loss: 0.0446, Accuracy: 98.00%\n",
      "Epoch [3/5], Step [400/600], Loss: 0.0226, Accuracy: 100.00%\n",
      "Epoch [3/5], Step [500/600], Loss: 0.0705, Accuracy: 96.00%\n",
      "Epoch [3/5], Step [600/600], Loss: 0.0266, Accuracy: 99.00%\n",
      "Epoch [4/5], Step [100/600], Loss: 0.0512, Accuracy: 98.00%\n",
      "Epoch [4/5], Step [200/600], Loss: 0.0511, Accuracy: 99.00%\n",
      "Epoch [4/5], Step [300/600], Loss: 0.2619, Accuracy: 95.00%\n",
      "Epoch [4/5], Step [400/600], Loss: 0.0795, Accuracy: 98.00%\n",
      "Epoch [4/5], Step [500/600], Loss: 0.0727, Accuracy: 98.00%\n",
      "Epoch [4/5], Step [600/600], Loss: 0.0483, Accuracy: 99.00%\n",
      "Epoch [5/5], Step [100/600], Loss: 0.0208, Accuracy: 100.00%\n",
      "Epoch [5/5], Step [200/600], Loss: 0.0840, Accuracy: 97.00%\n",
      "Epoch [5/5], Step [300/600], Loss: 0.0151, Accuracy: 100.00%\n",
      "Epoch [5/5], Step [400/600], Loss: 0.0865, Accuracy: 96.00%\n",
      "Epoch [5/5], Step [500/600], Loss: 0.0321, Accuracy: 98.00%\n",
      "Epoch [5/5], Step [600/600], Loss: 0.0815, Accuracy: 98.00%\n"
     ]
    }
   ],
   "source": [
    "# Train the model\n",
    "total_step = len(train_loader)\n",
    "loss_list = []\n",
    "acc_list = []\n",
    "for epoch in range(num_epochs):\n",
    "    for i, (images, labels) in enumerate(train_loader):\n",
    "        # Run the forward pass\n",
    "        outputs = model(images)\n",
    "        loss = criterion(outputs, labels)\n",
    "        loss_list.append(loss.item())\n",
    "\n",
    "        # Backprop and perform Adam optimisation\n",
    "        optimizer.zero_grad()\n",
    "        loss.backward()\n",
    "        optimizer.step()\n",
    "\n",
    "        # Track the accuracy\n",
    "        total = labels.size(0)\n",
    "        _, predicted = torch.max(outputs.data, 1)\n",
    "        correct = (predicted == labels).sum().item()\n",
    "        acc_list.append(correct / total)\n",
    "\n",
    "        if (i + 1) % 100 == 0:\n",
    "            print('Epoch [{}/{}], Step [{}/{}], Loss: {:.4f}, Accuracy: {:.2f}%'\n",
    "                  .format(epoch + 1, num_epochs, i + 1, total_step, loss.item(),\n",
    "                          (correct / total) * 100))"
   ]
  },
  {
   "cell_type": "code",
   "execution_count": 21,
   "metadata": {},
   "outputs": [
    {
     "name": "stdout",
     "output_type": "stream",
     "text": [
      "Test Accuracy of the model on the 10000 test images: 99.11 %\n"
     ]
    }
   ],
   "source": [
    "# Test the model\n",
    "model.eval()\n",
    "with torch.no_grad():\n",
    "    correct = 0\n",
    "    total = 0\n",
    "    for images, labels in test_loader:\n",
    "        outputs = model(images)\n",
    "        _, predicted = torch.max(outputs.data, 1)\n",
    "        total += labels.size(0)\n",
    "        correct += (predicted == labels).sum().item()\n",
    "\n",
    "    print('Test Accuracy of the model on the 10000 test images: {} %'.format((correct / total) * 100))"
   ]
  },
  {
   "cell_type": "markdown",
   "metadata": {
    "colab_type": "text",
    "id": "XR_nPjc5JZYd"
   },
   "source": [
    "## Please see below the section on Pre-Trained Models and how they can be used as feature extractors. You should now use any pre-trained model such as the one shown below and extract features of an image of your choice and develop a simple  classifer using softmax, MLP or any other one you may want. Keep in mind the input image size before training your model.\n",
    "\n",
    "Reference: \n",
    "https://medium.com/@tsakunelsonz/loading-and-training-a-neural-network-with-custom-dataset-via-transfer-learning-in-pytorch-8e672933469\n",
    "https://medium.com/@tsakunelsonz/adding-custom-made-images-using-data-loaders-for-transfer-learning-in-five-steps-9d879bb5b80e  \n",
    "https://medium.com/@tsakunelsonz/loading-and-training-a-neural-network-with-custom-dataset-via-transfer-learning-in-pytorch-8e672933469"
   ]
  },
  {
   "cell_type": "code",
   "execution_count": 22,
   "metadata": {
    "colab": {},
    "colab_type": "code",
    "id": "sQJZ907MORRQ"
   },
   "outputs": [],
   "source": [
    "from torch.utils.data.dataloader import DataLoader\n",
    "from torchvision import transforms, datasets"
   ]
  },
  {
   "cell_type": "code",
   "execution_count": 23,
   "metadata": {},
   "outputs": [],
   "source": [
    "train_transform = transforms.Compose([\n",
    "    transforms.RandomRotation(30),\n",
    "    transforms.RandomHorizontalFlip(p=0.5),\n",
    "    transforms.CenterCrop(10),\n",
    "    transforms.ToTensor(),\n",
    "    transforms.Normalize([0.5,0.5,0.5],[0.5,0.5,0.5]),\n",
    "])"
   ]
  },
  {
   "cell_type": "code",
   "execution_count": 24,
   "metadata": {},
   "outputs": [
    {
     "ename": "FileNotFoundError",
     "evalue": "[Errno 2] No such file or directory: '/Users/lirui/Desktop/data_586/data-586-lab-2-lirui315/data/train'",
     "output_type": "error",
     "traceback": [
      "\u001b[0;31m---------------------------------------------------------------------------\u001b[0m",
      "\u001b[0;31mFileNotFoundError\u001b[0m                         Traceback (most recent call last)",
      "\u001b[0;32m<ipython-input-24-a35cf7f0e35b>\u001b[0m in \u001b[0;36m<module>\u001b[0;34m()\u001b[0m\n\u001b[0;32m----> 1\u001b[0;31m \u001b[0mtrain_data\u001b[0m \u001b[0;34m=\u001b[0m \u001b[0mdatasets\u001b[0m\u001b[0;34m.\u001b[0m\u001b[0mImageFolder\u001b[0m\u001b[0;34m(\u001b[0m\u001b[0;34m\"/Users/lirui/Desktop/data_586/data-586-lab-2-lirui315/data/train\"\u001b[0m\u001b[0;34m,\u001b[0m \u001b[0mtransform\u001b[0m\u001b[0;34m=\u001b[0m\u001b[0mtrain_transform\u001b[0m\u001b[0;34m)\u001b[0m\u001b[0;34m\u001b[0m\u001b[0;34m\u001b[0m\u001b[0m\n\u001b[0m\u001b[1;32m      2\u001b[0m \u001b[0mvalidation_data\u001b[0m \u001b[0;34m=\u001b[0m \u001b[0mdatasets\u001b[0m\u001b[0;34m.\u001b[0m\u001b[0mImageFolder\u001b[0m\u001b[0;34m(\u001b[0m\u001b[0;34m\"/Users/lirui/Desktop/data_586/data-586-lab-2-lirui315/data/validation\"\u001b[0m\u001b[0;34m,\u001b[0m \u001b[0mtransform\u001b[0m\u001b[0;34m=\u001b[0m\u001b[0mtrain_transform\u001b[0m\u001b[0;34m)\u001b[0m\u001b[0;34m\u001b[0m\u001b[0;34m\u001b[0m\u001b[0m\n\u001b[1;32m      3\u001b[0m \u001b[0mtest_data\u001b[0m \u001b[0;34m=\u001b[0m \u001b[0mdatasets\u001b[0m\u001b[0;34m.\u001b[0m\u001b[0mImageFolder\u001b[0m\u001b[0;34m(\u001b[0m\u001b[0;34m\"/Users/lirui/Desktop/data_586/data-586-lab-2-lirui315/data/test\"\u001b[0m\u001b[0;34m,\u001b[0m \u001b[0mtransform\u001b[0m\u001b[0;34m=\u001b[0m\u001b[0mtrain_transform\u001b[0m\u001b[0;34m)\u001b[0m\u001b[0;34m\u001b[0m\u001b[0;34m\u001b[0m\u001b[0m\n",
      "\u001b[0;32m~/anaconda3/lib/python3.6/site-packages/torchvision/datasets/folder.py\u001b[0m in \u001b[0;36m__init__\u001b[0;34m(self, root, transform, target_transform, loader)\u001b[0m\n\u001b[1;32m    207\u001b[0m         super(ImageFolder, self).__init__(root, loader, IMG_EXTENSIONS,\n\u001b[1;32m    208\u001b[0m                                           \u001b[0mtransform\u001b[0m\u001b[0;34m=\u001b[0m\u001b[0mtransform\u001b[0m\u001b[0;34m,\u001b[0m\u001b[0;34m\u001b[0m\u001b[0;34m\u001b[0m\u001b[0m\n\u001b[0;32m--> 209\u001b[0;31m                                           target_transform=target_transform)\n\u001b[0m\u001b[1;32m    210\u001b[0m         \u001b[0mself\u001b[0m\u001b[0;34m.\u001b[0m\u001b[0mimgs\u001b[0m \u001b[0;34m=\u001b[0m \u001b[0mself\u001b[0m\u001b[0;34m.\u001b[0m\u001b[0msamples\u001b[0m\u001b[0;34m\u001b[0m\u001b[0;34m\u001b[0m\u001b[0m\n",
      "\u001b[0;32m~/anaconda3/lib/python3.6/site-packages/torchvision/datasets/folder.py\u001b[0m in \u001b[0;36m__init__\u001b[0;34m(self, root, loader, extensions, transform, target_transform)\u001b[0m\n\u001b[1;32m     81\u001b[0m \u001b[0;34m\u001b[0m\u001b[0m\n\u001b[1;32m     82\u001b[0m     \u001b[0;32mdef\u001b[0m \u001b[0m__init__\u001b[0m\u001b[0;34m(\u001b[0m\u001b[0mself\u001b[0m\u001b[0;34m,\u001b[0m \u001b[0mroot\u001b[0m\u001b[0;34m,\u001b[0m \u001b[0mloader\u001b[0m\u001b[0;34m,\u001b[0m \u001b[0mextensions\u001b[0m\u001b[0;34m,\u001b[0m \u001b[0mtransform\u001b[0m\u001b[0;34m=\u001b[0m\u001b[0;32mNone\u001b[0m\u001b[0;34m,\u001b[0m \u001b[0mtarget_transform\u001b[0m\u001b[0;34m=\u001b[0m\u001b[0;32mNone\u001b[0m\u001b[0;34m)\u001b[0m\u001b[0;34m:\u001b[0m\u001b[0;34m\u001b[0m\u001b[0;34m\u001b[0m\u001b[0m\n\u001b[0;32m---> 83\u001b[0;31m         \u001b[0mclasses\u001b[0m\u001b[0;34m,\u001b[0m \u001b[0mclass_to_idx\u001b[0m \u001b[0;34m=\u001b[0m \u001b[0mself\u001b[0m\u001b[0;34m.\u001b[0m\u001b[0m_find_classes\u001b[0m\u001b[0;34m(\u001b[0m\u001b[0mroot\u001b[0m\u001b[0;34m)\u001b[0m\u001b[0;34m\u001b[0m\u001b[0;34m\u001b[0m\u001b[0m\n\u001b[0m\u001b[1;32m     84\u001b[0m         \u001b[0msamples\u001b[0m \u001b[0;34m=\u001b[0m \u001b[0mmake_dataset\u001b[0m\u001b[0;34m(\u001b[0m\u001b[0mroot\u001b[0m\u001b[0;34m,\u001b[0m \u001b[0mclass_to_idx\u001b[0m\u001b[0;34m,\u001b[0m \u001b[0mextensions\u001b[0m\u001b[0;34m)\u001b[0m\u001b[0;34m\u001b[0m\u001b[0;34m\u001b[0m\u001b[0m\n\u001b[1;32m     85\u001b[0m         \u001b[0;32mif\u001b[0m \u001b[0mlen\u001b[0m\u001b[0;34m(\u001b[0m\u001b[0msamples\u001b[0m\u001b[0;34m)\u001b[0m \u001b[0;34m==\u001b[0m \u001b[0;36m0\u001b[0m\u001b[0;34m:\u001b[0m\u001b[0;34m\u001b[0m\u001b[0;34m\u001b[0m\u001b[0m\n",
      "\u001b[0;32m~/anaconda3/lib/python3.6/site-packages/torchvision/datasets/folder.py\u001b[0m in \u001b[0;36m_find_classes\u001b[0;34m(self, dir)\u001b[0m\n\u001b[1;32m    114\u001b[0m         \u001b[0;32mif\u001b[0m \u001b[0msys\u001b[0m\u001b[0;34m.\u001b[0m\u001b[0mversion_info\u001b[0m \u001b[0;34m>=\u001b[0m \u001b[0;34m(\u001b[0m\u001b[0;36m3\u001b[0m\u001b[0;34m,\u001b[0m \u001b[0;36m5\u001b[0m\u001b[0;34m)\u001b[0m\u001b[0;34m:\u001b[0m\u001b[0;34m\u001b[0m\u001b[0;34m\u001b[0m\u001b[0m\n\u001b[1;32m    115\u001b[0m             \u001b[0;31m# Faster and available in Python 3.5 and above\u001b[0m\u001b[0;34m\u001b[0m\u001b[0;34m\u001b[0m\u001b[0;34m\u001b[0m\u001b[0m\n\u001b[0;32m--> 116\u001b[0;31m             \u001b[0mclasses\u001b[0m \u001b[0;34m=\u001b[0m \u001b[0;34m[\u001b[0m\u001b[0md\u001b[0m\u001b[0;34m.\u001b[0m\u001b[0mname\u001b[0m \u001b[0;32mfor\u001b[0m \u001b[0md\u001b[0m \u001b[0;32min\u001b[0m \u001b[0mos\u001b[0m\u001b[0;34m.\u001b[0m\u001b[0mscandir\u001b[0m\u001b[0;34m(\u001b[0m\u001b[0mdir\u001b[0m\u001b[0;34m)\u001b[0m \u001b[0;32mif\u001b[0m \u001b[0md\u001b[0m\u001b[0;34m.\u001b[0m\u001b[0mis_dir\u001b[0m\u001b[0;34m(\u001b[0m\u001b[0;34m)\u001b[0m\u001b[0;34m]\u001b[0m\u001b[0;34m\u001b[0m\u001b[0;34m\u001b[0m\u001b[0m\n\u001b[0m\u001b[1;32m    117\u001b[0m         \u001b[0;32melse\u001b[0m\u001b[0;34m:\u001b[0m\u001b[0;34m\u001b[0m\u001b[0;34m\u001b[0m\u001b[0m\n\u001b[1;32m    118\u001b[0m             \u001b[0mclasses\u001b[0m \u001b[0;34m=\u001b[0m \u001b[0;34m[\u001b[0m\u001b[0md\u001b[0m \u001b[0;32mfor\u001b[0m \u001b[0md\u001b[0m \u001b[0;32min\u001b[0m \u001b[0mos\u001b[0m\u001b[0;34m.\u001b[0m\u001b[0mlistdir\u001b[0m\u001b[0;34m(\u001b[0m\u001b[0mdir\u001b[0m\u001b[0;34m)\u001b[0m \u001b[0;32mif\u001b[0m \u001b[0mos\u001b[0m\u001b[0;34m.\u001b[0m\u001b[0mpath\u001b[0m\u001b[0;34m.\u001b[0m\u001b[0misdir\u001b[0m\u001b[0;34m(\u001b[0m\u001b[0mos\u001b[0m\u001b[0;34m.\u001b[0m\u001b[0mpath\u001b[0m\u001b[0;34m.\u001b[0m\u001b[0mjoin\u001b[0m\u001b[0;34m(\u001b[0m\u001b[0mdir\u001b[0m\u001b[0;34m,\u001b[0m \u001b[0md\u001b[0m\u001b[0;34m)\u001b[0m\u001b[0;34m)\u001b[0m\u001b[0;34m]\u001b[0m\u001b[0;34m\u001b[0m\u001b[0;34m\u001b[0m\u001b[0m\n",
      "\u001b[0;31mFileNotFoundError\u001b[0m: [Errno 2] No such file or directory: '/Users/lirui/Desktop/data_586/data-586-lab-2-lirui315/data/train'"
     ]
    }
   ],
   "source": [
    "train_data = datasets.ImageFolder(\"/Users/lirui/Desktop/data_586/data-586-lab-2-lirui315/data/train\", transform=train_transform)\n",
    "validation_data = datasets.ImageFolder(\"/Users/lirui/Desktop/data_586/data-586-lab-2-lirui315/data/validation\", transform=train_transform)\n",
    "test_data = datasets.ImageFolder(\"/Users/lirui/Desktop/data_586/data-586-lab-2-lirui315/data/test\", transform=train_transform)"
   ]
  },
  {
   "cell_type": "code",
   "execution_count": null,
   "metadata": {},
   "outputs": [],
   "source": [
    "trainLoader = DataLoader(train_data, batch_size=30, shuffle=True)\n",
    "validLoader = DataLoader(validation_data, batch_size=30, shuffle=False)\n",
    "testLoader = DataLoader(test_data, batch_size=30, shuffle=False)"
   ]
  },
  {
   "cell_type": "markdown",
   "metadata": {
    "colab_type": "text",
    "id": "mdWM8AwFSJ0p"
   },
   "source": [
    "## Pre-trained models\n",
    "\n",
    "Training CNN models from scratch requires a lot of data. Hence we often use pre-trained models to alleviate this problem. For CNNs, pre-trained models are readily available for famos architectures such as VGG, ResNet and Inception Net.\n",
    "\n",
    "When you set `pretrained=True`, torchvision automatically downloads the model for you, and initializes weights from there. If this does not work, run the following:\n",
    "```\n",
    ">> wget https://download.pytorch.org/models/vgg16-397923af.pth\n",
    ">> mv vgg16-397923af.pth ~/.torch/models/vgg16-397923af.pth\n",
    "```\n",
    "\n",
    "Reference: https://pytorch.org/docs/stable/torchvision/models.html."
   ]
  },
  {
   "cell_type": "code",
   "execution_count": null,
   "metadata": {},
   "outputs": [],
   "source": [
    "#import models from torchvision\n",
    "from torchvision import models\n",
    "#build the pretrained model (vgg16 in this case)\n",
    "model = models.vgg16(pretrained = True)"
   ]
  },
  {
   "cell_type": "code",
   "execution_count": null,
   "metadata": {},
   "outputs": [],
   "source": [
    "#import OrderedDicted to corectly align the network layers\n",
    "#import nn you use activation and dropout features\n",
    "from collections import OrderedDict\n",
    "from torch import nn\n",
    "#create classifier\n",
    "classifier=nn.Sequential(OrderedDict([('fc1', nn.Linear(25088, 512)),\n",
    "                           ('relu', nn.ReLU()), \n",
    "                           ('dropout', nn.Dropout(p=0.337)),\n",
    "                           ('fc2', nn.Linear(512, 102)),\n",
    "                           ('output', nn.LogSoftmax(dim=1))\n",
    "                             ]))\n",
    "#replace the model's classifier with this new classifier \n",
    "#transfer learning connection applied here\n",
    "model.classifier = classifier"
   ]
  },
  {
   "cell_type": "code",
   "execution_count": null,
   "metadata": {},
   "outputs": [],
   "source": [
    "#import optimizer for \n",
    "from torch import optim\n",
    "#define criteria and optimizer\n",
    "criteria = nn.CrossEntropyLoss()\n",
    "optimizer = optim.SGD(model.parameters(), lr = 0.005, momentum = 0.5)"
   ]
  },
  {
   "cell_type": "code",
   "execution_count": null,
   "metadata": {},
   "outputs": [],
   "source": [
    "#define training function\n",
    "def train (model, loader, criterion, gpu):\n",
    "    model.train()\n",
    "    current_loss = 0\n",
    "    current_correct = 0\n",
    "    for train, y_train in iter(loader):\n",
    "        if gpu:\n",
    "            train, y_train = train.to('cuda'), y_train.to('cuda')\n",
    "        optimizer.zero_grad()\n",
    "        output = model.forward(train)\n",
    "        _, preds = torch.max(output,1)\n",
    "        loss = criterion(output, y_train)\n",
    "        loss.backward()\n",
    "        optimizer.step()\n",
    "        current_loss += loss.item()*train.size(0)\n",
    "        current_correct += torch.sum(preds == y_train.data)\n",
    "    epoch_loss = current_loss / len(trainLoader.dataset)\n",
    "    epoch_acc = current_correct.double() / len(trainLoader.dataset)\n",
    "        \n",
    "    return epoch_loss, epoch_acc"
   ]
  },
  {
   "cell_type": "code",
   "execution_count": null,
   "metadata": {},
   "outputs": [],
   "source": [
    "#define validation function\n",
    "def validation (model, loader, criterion, gpu):\n",
    "    model.eval()\n",
    "    valid_loss = 0\n",
    "    valid_correct = 0\n",
    "    for valid, y_valid in iter(loader):\n",
    "        if gpu:\n",
    "            valid, y_valid = valid.to('cuda'), y_valid.to('cuda')\n",
    "        output = model.forward(valid)\n",
    "        valid_loss += criterion(output, y_valid).item()*valid.size(0)\n",
    "        equal = (output.max(dim=1)[1] == y_valid.data)\n",
    "        valid_correct += torch.sum(equal)#type(torch.FloatTensor)\n",
    "    \n",
    "    epoch_loss = valid_loss / len(validLoader.dataset)\n",
    "    epoch_acc = valid_correct.double() / len(validLoader.dataset)\n",
    "    \n",
    "    return epoch_loss, epoch_acc"
   ]
  },
  {
   "cell_type": "code",
   "execution_count": null,
   "metadata": {},
   "outputs": [],
   "source": [
    "cuda = torch.cuda.is_available()\n",
    "cuda"
   ]
  },
  {
   "cell_type": "code",
   "execution_count": null,
   "metadata": {
    "scrolled": true
   },
   "outputs": [],
   "source": [
    "#Initialize training params  \n",
    "#freeze gradient parameters in pretrained model\n",
    "for param in model.parameters():\n",
    "    param.require_grad = False\n",
    "#train and validate\n",
    "epochs = 10  \n",
    "epoch = 0\n",
    "\n",
    "    \n",
    "for e in range(epochs):\n",
    "    epoch +=1\n",
    "    print(epoch)\n",
    "    with torch.set_grad_enabled(True):\n",
    "        epoch_train_loss, epoch_train_acc = train(model,trainLoader, criteria, gpu=cuda)\n",
    "    print(\"Epoch: {} Train Loss : {:.4f}  Train Accuracy: {:.4f}\".format(epoch,epoch_train_loss,epoch_train_acc))\n",
    "    with torch.no_grad():\n",
    "        epoch_val_loss, epoch_val_acc = validation(model, validLoader, criteria, gpu=cuda)\n",
    "    print(\"Epoch: {} Validation Loss : {:.4f}  Validation Accuracy {:.4f}\".format(epoch,epoch_val_loss,epoch_val_acc))"
   ]
  },
  {
   "cell_type": "code",
   "execution_count": null,
   "metadata": {},
   "outputs": [],
   "source": [
    "# Testing the Modified Network\n",
    "\n",
    "model.eval()\n",
    "total = 0\n",
    "correct = 0 \n",
    "count = 0\n",
    "#iterating for each sample in the test dataset once\n",
    "for test, y_test in iter(testLoader):\n",
    "    test, y_test = test.to('cpu'), y_test.to('cpu')\n",
    "#Calculate the class probabilities (softmax) for img\n",
    "    with torch.no_grad():\n",
    "        output = model.forward(test)\n",
    "        ps = torch.exp(output)\n",
    "        _, predicted = torch.max(output.data,1)\n",
    "        total += y_test.size(0)\n",
    "        correct += (predicted == y_test).sum().item() \n",
    "        count += 1\n",
    "        print(\"Accuracy of network on test images is ... {:.4f}....count: {}\".format(100*correct/total,  count ))"
   ]
  },
  {
   "cell_type": "markdown",
   "metadata": {
    "colab_type": "text",
    "id": "GeoNBYIWSJ0u"
   },
   "source": [
    "## We can build a VGG feature extractor. These are often useful in downstream tasks, for example learning deep visual semantic embeddings (https://static.googleusercontent.com/media/research.google.com/en//pubs/archive/41473.pdf). This allows us to use features trained on large datasets like ImageNet, and use on tasks which have lesser data.\n",
    "\n",
    "## ``` vgg16.features ``` gives us convolutional features. Often, even taking all the layers until the last classification layer also suffices.\n"
   ]
  },
  {
   "cell_type": "code",
   "execution_count": null,
   "metadata": {
    "colab": {},
    "colab_type": "code",
    "id": "8HzLOOCQSJ0v"
   },
   "outputs": [],
   "source": [
    "vgg16_feature_extractor = vgg16.features\n",
    "# print('VGG feature extractor', vgg16_feature_extractor)\n",
    "print(vgg16_feature_extractor(Variable(torch.rand(1, 3, 224, 224))).size())\n",
    "print(vgg16_feature_extractor(Variable(torch.rand(1, 3, 224, 224))).view(1, -1).size()) # flatten conv features\n",
    "\n",
    "vgg16_4096 = models.vgg16(pretrained=True)\n",
    "new_classifier = nn.Sequential(*list(vgg16_4096.classifier.children())[:-1]) # remove just the last layer\n",
    "vgg16_4096.classifier = new_classifier\n",
    "print(vgg16_4096(Variable(torch.rand(1, 3, 224, 224))).size())"
   ]
  },
  {
   "cell_type": "code",
   "execution_count": null,
   "metadata": {},
   "outputs": [],
   "source": [
    "#import optimizer for \n",
    "from torch import optim\n",
    "#define criteria and optimizer\n",
    "criteria = nn.CrossEntropyLoss()\n",
    "optimizer = optim.SGD(vgg16_4096.parameters(), lr = 0.005, momentum = 0.5)\n",
    "\n",
    "#define training function\n",
    "def train (model, loader, criterion, gpu):\n",
    "    model.train()\n",
    "    current_loss = 0\n",
    "    current_correct = 0\n",
    "    for train, y_train in iter(loader):\n",
    "        if gpu:\n",
    "            train, y_train = train.to('cuda'), y_train.to('cuda')\n",
    "        optimizer.zero_grad()\n",
    "        output = model.forward(train)\n",
    "        _, preds = torch.max(output,1)\n",
    "        loss = criterion(output, y_train)\n",
    "        loss.backward()\n",
    "        optimizer.step()\n",
    "        current_loss += loss.item()*train.size(0)\n",
    "        current_correct += torch.sum(preds == y_train.data)\n",
    "    epoch_loss = current_loss / len(trainLoader.dataset)\n",
    "    epoch_acc = current_correct.double() / len(trainLoader.dataset)\n",
    "        \n",
    "    return epoch_loss, epoch_acc\n",
    "\n",
    "#define validation function\n",
    "def validation (model, loader, criterion, gpu):\n",
    "    model.eval()\n",
    "    valid_loss = 0\n",
    "    valid_correct = 0\n",
    "    for valid, y_valid in iter(loader):\n",
    "        if gpu:\n",
    "            valid, y_valid = valid.to('cuda'), y_valid.to('cuda')\n",
    "        output = model.forward(valid)\n",
    "        valid_loss += criterion(output, y_valid).item()*valid.size(0)\n",
    "        equal = (output.max(dim=1)[1] == y_valid.data)\n",
    "        valid_correct += torch.sum(equal)#type(torch.FloatTensor)\n",
    "    \n",
    "    epoch_loss = valid_loss / len(validLoader.dataset)\n",
    "    epoch_acc = valid_correct.double() / len(validLoader.dataset)\n",
    "    \n",
    "    return epoch_loss, epoch_acc"
   ]
  },
  {
   "cell_type": "code",
   "execution_count": null,
   "metadata": {
    "colab": {},
    "colab_type": "code",
    "id": "47maVd5WSJ06"
   },
   "outputs": [],
   "source": [
    "#Initialize training params  \n",
    "#freeze gradient parameters in pretrained model\n",
    "for param in vgg16_4096.parameters():\n",
    "    param.require_grad = False\n",
    "#train and validate\n",
    "epochs = 10  \n",
    "epoch = 0\n",
    "\n",
    "    \n",
    "for e in range(epochs):\n",
    "    epoch +=1\n",
    "    print(epoch)\n",
    "    with torch.set_grad_enabled(True):\n",
    "        epoch_train_loss, epoch_train_acc = train(vgg16_4096,trainLoader, criteria, gpu=cuda)\n",
    "    print(\"Epoch: {} Train Loss : {:.4f}  Train Accuracy: {:.4f}\".format(epoch,epoch_train_loss,epoch_train_acc))\n",
    "    with torch.no_grad():\n",
    "        epoch_val_loss, epoch_val_acc = validation(model, validLoader, criteria, gpu=cuda)\n",
    "    print(\"Epoch: {} Validation Loss : {:.4f}  Validation Accuracy {:.4f}\".format(epoch,epoch_val_loss,epoch_val_acc))"
   ]
  },
  {
   "cell_type": "code",
   "execution_count": null,
   "metadata": {},
   "outputs": [],
   "source": [
    "# Testing the Modified Network\n",
    "\n",
    "model.eval()\n",
    "total = 0\n",
    "correct = 0 \n",
    "count = 0\n",
    "#iterating for each sample in the test dataset once\n",
    "for test, y_test in iter(testLoader):\n",
    "    test, y_test = test.to('cpu'), y_test.to('cpu')\n",
    "#Calculate the class probabilities (softmax) for img\n",
    "    with torch.no_grad():\n",
    "        output = vgg16_4096.forward(test)\n",
    "        ps = torch.exp(output)\n",
    "        _, predicted = torch.max(output.data,1)\n",
    "        total += y_test.size(0)\n",
    "        correct += (predicted == y_test).sum().item() \n",
    "        count += 1\n",
    "        print(\"Accuracy of network on test images is ... {:.4f}....count: {}\".format(100*correct/total,  count ))"
   ]
  },
  {
   "cell_type": "code",
   "execution_count": null,
   "metadata": {},
   "outputs": [],
   "source": []
  }
 ],
 "metadata": {
  "colab": {
   "name": "Lab 2_sol.ipynb",
   "provenance": [],
   "toc_visible": true,
   "version": "0.3.2"
  },
  "kernelspec": {
   "display_name": "Python 3",
   "language": "python",
   "name": "python3"
  },
  "language_info": {
   "codemirror_mode": {
    "name": "ipython",
    "version": 3
   },
   "file_extension": ".py",
   "mimetype": "text/x-python",
   "name": "python",
   "nbconvert_exporter": "python",
   "pygments_lexer": "ipython3",
   "version": "3.6.8"
  }
 },
 "nbformat": 4,
 "nbformat_minor": 1
}
