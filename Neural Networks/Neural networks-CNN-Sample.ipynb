{
  "nbformat": 4,
  "nbformat_minor": 0,
  "metadata": {
    "colab": {
      "name": "CNN.ipynb",
      "version": "0.3.2",
      "provenance": [],
      "include_colab_link": true
    },
    "kernelspec": {
      "name": "python3",
      "display_name": "Python 3"
    }
  },
  "cells": [
    {
      "cell_type": "markdown",
      "metadata": {
        "id": "view-in-github",
        "colab_type": "text"
      },
      "source": [
        "<a href=\"https://colab.research.google.com/github/april-sang-codes-display/Python-Code-Display/blob/master/CNN.ipynb\" target=\"_parent\"><img src=\"https://colab.research.google.com/assets/colab-badge.svg\" alt=\"Open In Colab\"/></a>"
      ]
    },
    {
      "cell_type": "code",
      "metadata": {
        "id": "QhVskgbTGhPv",
        "colab_type": "code",
        "colab": {
          "base_uri": "https://localhost:8080/",
          "height": 1499
        },
        "outputId": "1d36bcca-4285-4c7e-f7f6-81b873141fed"
      },
      "source": [
        "import keras\n",
        "\n",
        "from keras.datasets import cifar10\n",
        "from keras.models import Sequential\n",
        "from keras.layers import Dense, Dropout, Flatten, Conv2D, MaxPooling2D\n",
        "\n",
        "# Load data set\n",
        "(x_train, y_train), (x_test, y_test) = cifar10.load_data()\n",
        "\n",
        "# Normalize data set to 0-to-1 range\n",
        "x_train = x_train.astype('float32')\n",
        "x_test = x_test.astype('float32')\n",
        "x_train /= 255\n",
        "x_test /= 255\n",
        "\n",
        "# Convert class vectors to binary class matrices\n",
        "y_train = keras.utils.to_categorical(y_train, 10)\n",
        "y_test = keras.utils.to_categorical(y_test, 10)\n",
        "#len(x_train)\n",
        "\n",
        "#Create a model and add layers\n",
        "model = Sequential()\n",
        "\n",
        "model.add(Conv2D(32, (3, 3), padding='same', input_shape=(32, 32, 3), activation=\"relu\"))\n",
        "model.add(Conv2D(32, (3, 3), activation=\"relu\"))\n",
        "model.add(MaxPooling2D(pool_size=(2, 2)))\n",
        "model.add(Dropout(0.25))\n",
        "\n",
        "model.add(Conv2D(64, (3, 3), padding='same', activation=\"relu\"))\n",
        "model.add(Conv2D(64, (3, 3), activation=\"relu\"))\n",
        "model.add(MaxPooling2D(pool_size=(2, 2)))\n",
        "model.add(Dropout(0.25))\n",
        "\n",
        "model.add(Flatten())\n",
        "model.add(Dense(512, activation=\"relu\"))\n",
        "model.add(Dropout(0.5))\n",
        "model.add(Dense(10, activation=\"softmax\"))\n",
        "\n",
        "# Compile the model\n",
        "model.compile(\n",
        "    loss='categorical_crossentropy',\n",
        "    optimizer=\"adam\",\n",
        "    metrics=['accuracy']\n",
        ")\n",
        "\n",
        "# Train the model\n",
        "model.fit(\n",
        "    x_train,\n",
        "    y_train,\n",
        "    batch_size=32,\n",
        "    epochs=30,\n",
        "    validation_data=(x_test, y_test),\n",
        "    shuffle=True\n",
        ")"
      ],
      "execution_count": 1,
      "outputs": [
        {
          "output_type": "stream",
          "text": [
            "Using TensorFlow backend.\n"
          ],
          "name": "stderr"
        },
        {
          "output_type": "stream",
          "text": [
            "Downloading data from https://www.cs.toronto.edu/~kriz/cifar-10-python.tar.gz\n",
            "170500096/170498071 [==============================] - 5s 0us/step\n"
          ],
          "name": "stdout"
        },
        {
          "output_type": "stream",
          "text": [
            "WARNING: Logging before flag parsing goes to stderr.\n",
            "W0619 00:20:17.772075 139911841650560 deprecation_wrapper.py:119] From /usr/local/lib/python3.6/dist-packages/keras/backend/tensorflow_backend.py:74: The name tf.get_default_graph is deprecated. Please use tf.compat.v1.get_default_graph instead.\n",
            "\n",
            "W0619 00:20:17.805177 139911841650560 deprecation_wrapper.py:119] From /usr/local/lib/python3.6/dist-packages/keras/backend/tensorflow_backend.py:517: The name tf.placeholder is deprecated. Please use tf.compat.v1.placeholder instead.\n",
            "\n",
            "W0619 00:20:17.812523 139911841650560 deprecation_wrapper.py:119] From /usr/local/lib/python3.6/dist-packages/keras/backend/tensorflow_backend.py:4138: The name tf.random_uniform is deprecated. Please use tf.random.uniform instead.\n",
            "\n",
            "W0619 00:20:17.868116 139911841650560 deprecation_wrapper.py:119] From /usr/local/lib/python3.6/dist-packages/keras/backend/tensorflow_backend.py:3976: The name tf.nn.max_pool is deprecated. Please use tf.nn.max_pool2d instead.\n",
            "\n",
            "W0619 00:20:17.873238 139911841650560 deprecation_wrapper.py:119] From /usr/local/lib/python3.6/dist-packages/keras/backend/tensorflow_backend.py:133: The name tf.placeholder_with_default is deprecated. Please use tf.compat.v1.placeholder_with_default instead.\n",
            "\n",
            "W0619 00:20:17.886036 139911841650560 deprecation.py:506] From /usr/local/lib/python3.6/dist-packages/keras/backend/tensorflow_backend.py:3445: calling dropout (from tensorflow.python.ops.nn_ops) with keep_prob is deprecated and will be removed in a future version.\n",
            "Instructions for updating:\n",
            "Please use `rate` instead of `keep_prob`. Rate should be set to `rate = 1 - keep_prob`.\n",
            "W0619 00:20:18.007797 139911841650560 deprecation_wrapper.py:119] From /usr/local/lib/python3.6/dist-packages/keras/optimizers.py:790: The name tf.train.Optimizer is deprecated. Please use tf.compat.v1.train.Optimizer instead.\n",
            "\n",
            "W0619 00:20:18.033798 139911841650560 deprecation_wrapper.py:119] From /usr/local/lib/python3.6/dist-packages/keras/backend/tensorflow_backend.py:3295: The name tf.log is deprecated. Please use tf.math.log instead.\n",
            "\n",
            "W0619 00:20:18.174517 139911841650560 deprecation.py:323] From /usr/local/lib/python3.6/dist-packages/tensorflow/python/ops/math_grad.py:1250: add_dispatch_support.<locals>.wrapper (from tensorflow.python.ops.array_ops) is deprecated and will be removed in a future version.\n",
            "Instructions for updating:\n",
            "Use tf.where in 2.0, which has the same broadcast rule as np.where\n"
          ],
          "name": "stderr"
        },
        {
          "output_type": "stream",
          "text": [
            "Train on 50000 samples, validate on 10000 samples\n",
            "Epoch 1/30\n",
            "50000/50000 [==============================] - 267s 5ms/step - loss: 1.5118 - acc: 0.4460 - val_loss: 1.1219 - val_acc: 0.5983\n",
            "Epoch 2/30\n",
            "50000/50000 [==============================] - 264s 5ms/step - loss: 1.1136 - acc: 0.6050 - val_loss: 0.9341 - val_acc: 0.6669\n",
            "Epoch 3/30\n",
            "50000/50000 [==============================] - 262s 5ms/step - loss: 0.9671 - acc: 0.6595 - val_loss: 0.8207 - val_acc: 0.7137\n",
            "Epoch 4/30\n",
            "50000/50000 [==============================] - 263s 5ms/step - loss: 0.8786 - acc: 0.6922 - val_loss: 0.7913 - val_acc: 0.7268\n",
            "Epoch 5/30\n",
            "50000/50000 [==============================] - 259s 5ms/step - loss: 0.8146 - acc: 0.7148 - val_loss: 0.7570 - val_acc: 0.7425\n",
            "Epoch 6/30\n",
            "50000/50000 [==============================] - 265s 5ms/step - loss: 0.7665 - acc: 0.7302 - val_loss: 0.7331 - val_acc: 0.7477\n",
            "Epoch 7/30\n",
            "50000/50000 [==============================] - 265s 5ms/step - loss: 0.7280 - acc: 0.7442 - val_loss: 0.7196 - val_acc: 0.7527\n",
            "Epoch 8/30\n",
            "50000/50000 [==============================] - 266s 5ms/step - loss: 0.6901 - acc: 0.7572 - val_loss: 0.7201 - val_acc: 0.7566\n",
            "Epoch 9/30\n",
            "50000/50000 [==============================] - 266s 5ms/step - loss: 0.6669 - acc: 0.7667 - val_loss: 0.6663 - val_acc: 0.7738\n",
            "Epoch 10/30\n",
            "50000/50000 [==============================] - 266s 5ms/step - loss: 0.6458 - acc: 0.7739 - val_loss: 0.6708 - val_acc: 0.7746\n",
            "Epoch 11/30\n",
            "50000/50000 [==============================] - 265s 5ms/step - loss: 0.6301 - acc: 0.7754 - val_loss: 0.6552 - val_acc: 0.7770\n",
            "Epoch 12/30\n",
            "50000/50000 [==============================] - 265s 5ms/step - loss: 0.6033 - acc: 0.7881 - val_loss: 0.6840 - val_acc: 0.7749\n",
            "Epoch 13/30\n",
            "50000/50000 [==============================] - 265s 5ms/step - loss: 0.5935 - acc: 0.7909 - val_loss: 0.6438 - val_acc: 0.7782\n",
            "Epoch 14/30\n",
            "50000/50000 [==============================] - 265s 5ms/step - loss: 0.5772 - acc: 0.7961 - val_loss: 0.6603 - val_acc: 0.7797\n",
            "Epoch 15/30\n",
            "50000/50000 [==============================] - 265s 5ms/step - loss: 0.5676 - acc: 0.8005 - val_loss: 0.6451 - val_acc: 0.7849\n",
            "Epoch 16/30\n",
            "50000/50000 [==============================] - 263s 5ms/step - loss: 0.5488 - acc: 0.8063 - val_loss: 0.6677 - val_acc: 0.7784\n",
            "Epoch 17/30\n",
            "50000/50000 [==============================] - 254s 5ms/step - loss: 0.5407 - acc: 0.8076 - val_loss: 0.6392 - val_acc: 0.7888\n",
            "Epoch 18/30\n",
            "50000/50000 [==============================] - 255s 5ms/step - loss: 0.5315 - acc: 0.8142 - val_loss: 0.6547 - val_acc: 0.7879\n",
            "Epoch 19/30\n",
            "50000/50000 [==============================] - 254s 5ms/step - loss: 0.5117 - acc: 0.8194 - val_loss: 0.6833 - val_acc: 0.7785\n",
            "Epoch 20/30\n",
            "50000/50000 [==============================] - 254s 5ms/step - loss: 0.5080 - acc: 0.8225 - val_loss: 0.6588 - val_acc: 0.7844\n",
            "Epoch 21/30\n",
            "50000/50000 [==============================] - 254s 5ms/step - loss: 0.5017 - acc: 0.8254 - val_loss: 0.6621 - val_acc: 0.7854\n",
            "Epoch 22/30\n",
            "50000/50000 [==============================] - 254s 5ms/step - loss: 0.4942 - acc: 0.8257 - val_loss: 0.6691 - val_acc: 0.7795\n",
            "Epoch 23/30\n",
            "50000/50000 [==============================] - 254s 5ms/step - loss: 0.4921 - acc: 0.8285 - val_loss: 0.6713 - val_acc: 0.7867\n",
            "Epoch 24/30\n",
            "50000/50000 [==============================] - 255s 5ms/step - loss: 0.4816 - acc: 0.8327 - val_loss: 0.6573 - val_acc: 0.7833\n",
            "Epoch 25/30\n",
            "50000/50000 [==============================] - 254s 5ms/step - loss: 0.4785 - acc: 0.8324 - val_loss: 0.6451 - val_acc: 0.7882\n",
            "Epoch 26/30\n",
            "50000/50000 [==============================] - 255s 5ms/step - loss: 0.4684 - acc: 0.8345 - val_loss: 0.6489 - val_acc: 0.7901\n",
            "Epoch 27/30\n",
            "50000/50000 [==============================] - 256s 5ms/step - loss: 0.4667 - acc: 0.8348 - val_loss: 0.6690 - val_acc: 0.7852\n",
            "Epoch 28/30\n",
            "50000/50000 [==============================] - 255s 5ms/step - loss: 0.4589 - acc: 0.8383 - val_loss: 0.6599 - val_acc: 0.7903\n",
            "Epoch 29/30\n",
            "50000/50000 [==============================] - 254s 5ms/step - loss: 0.4571 - acc: 0.8404 - val_loss: 0.6493 - val_acc: 0.7936\n",
            "Epoch 30/30\n",
            "50000/50000 [==============================] - 254s 5ms/step - loss: 0.4361 - acc: 0.8468 - val_loss: 0.6652 - val_acc: 0.7835\n"
          ],
          "name": "stdout"
        },
        {
          "output_type": "execute_result",
          "data": {
            "text/plain": [
              "<keras.callbacks.History at 0x7f3f8a70d860>"
            ]
          },
          "metadata": {
            "tags": []
          },
          "execution_count": 1
        }
      ]
    },
    {
      "cell_type": "code",
      "metadata": {
        "id": "uhF_1QZOrxJ-",
        "colab_type": "code",
        "colab": {
          "base_uri": "https://localhost:8080/",
          "height": 269
        },
        "outputId": "35456545-6498-4993-ea3f-f41fe4829449"
      },
      "source": [
        "import matplotlib.pyplot as plt\n",
        "import matplotlib.image as mpimg\n",
        "\n",
        "imgplot = plt.imshow(img)"
      ],
      "execution_count": 9,
      "outputs": [
        {
          "output_type": "display_data",
          "data": {
            "image/png": "[encoded data removed]",
            "text/plain": [
              "<Figure size 432x288 with 1 Axes>"
            ]
          },
          "metadata": {
            "tags": []
          }
        }
      ]
    },
    {
      "cell_type": "code",
      "metadata": {
        "id": "CXux6qM6Gp5b",
        "colab_type": "code",
        "colab": {
          "base_uri": "https://localhost:8080/",
          "height": 51
        },
        "outputId": "ea90029d-1207-4e04-af6c-e4734feda08e"
      },
      "source": [
        "from keras.preprocessing import image\n",
        "import numpy as np\n",
        "\n",
        "class_labels = [\n",
        "    \"Plane\",\n",
        "    \"Car\",\n",
        "    \"Bird\",\n",
        "    \"Cat\",\n",
        "    \"Deer\",\n",
        "    \"Dog\",\n",
        "    \"Frog\",\n",
        "    \"Horse\",\n",
        "    \"Boat\",\n",
        "    \"Truck\"\n",
        "]\n",
        "\n",
        "img = image.load_img(\"/content/airbus-albatross-1.jpg\", target_size=(32, 32))\n",
        "\n",
        "# Convert the image to a numpy array\n",
        "image_to_test = image.img_to_array(img)\n",
        "\n",
        "# Add a fourth dimension to the image (since Keras expects a list of images, not a single image)\n",
        "list_of_images = np.expand_dims(image_to_test, axis=0)\n",
        "\n",
        "# Make a prediction using the model\n",
        "results = model.predict(list_of_images)\n",
        "\n",
        "# Since we are only testing one image, we only need to check the first result\n",
        "single_result = results[0]\n",
        "\n",
        "# We will get a likelihood score for all 10 possible classes. Find out which class had the highest score.\n",
        "most_likely_class_index = int(np.argmax(single_result))\n",
        "class_likelihood = single_result[most_likely_class_index]\n",
        "\n",
        "# Get the name of the most likely class\n",
        "class_label = class_labels[most_likely_class_index]\n",
        "\n",
        "# Print the result\n",
        "print(\"This is image is a {} - Likelihood: {:2f}\".format(class_label, class_likelihood))"
      ],
      "execution_count": 8,
      "outputs": [
        {
          "output_type": "stream",
          "text": [
            "<PIL.Image.Image image mode=RGB size=32x32 at 0x7F3F851CB198>\n",
            "This is image is a Plane - Likelihood: 1.000000\n"
          ],
          "name": "stdout"
        }
      ]
    },
    {
      "cell_type": "code",
      "metadata": {
        "id": "Q4V3VH8LrFYb",
        "colab_type": "code",
        "colab": {}
      },
      "source": [
        ""
      ],
      "execution_count": 0,
      "outputs": []
    }
  ]
}