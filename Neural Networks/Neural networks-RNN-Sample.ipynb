{
 "cells": [
  {
   "cell_type": "code",
   "execution_count": 2,
   "metadata": {
    "colab": {},
    "colab_type": "code",
    "id": "Iy3AlQ6rWJyN"
   },
   "outputs": [],
   "source": [
    "import numpy as np\n",
    "import pandas as pd\n",
    "import matplotlib.pyplot as plt\n",
    "import torch\n",
    "from torch import nn\n",
    "from torch.autograd import Variable\n",
    "%matplotlib inline"
   ]
  },
  {
   "cell_type": "code",
   "execution_count": 3,
   "metadata": {
    "colab": {},
    "colab_type": "code",
    "id": "uTmGJSjVXFZE"
   },
   "outputs": [],
   "source": [
    "# Input your data here to train your network\n",
    "data_csv = pd.read_csv('data.csv', usecols=[1])"
   ]
  },
  {
   "cell_type": "code",
   "execution_count": 4,
   "metadata": {
    "colab": {},
    "colab_type": "code",
    "id": "OMwnHcJ8r8kM"
   },
   "outputs": [
    {
     "data": {
      "text/plain": [
       "[<matplotlib.lines.Line2D at 0x119c28eb8>]"
      ]
     },
     "execution_count": 4,
     "metadata": {},
     "output_type": "execute_result"
    },
    {
     "data": {
      "image/png": "[encoded data removed]",
      "text/plain": [
       "<Figure size 432x288 with 1 Axes>"
      ]
     },
     "metadata": {},
     "output_type": "display_data"
    }
   ],
   "source": [
    "plt.plot(data_csv)"
   ]
  },
  {
   "cell_type": "code",
   "execution_count": 5,
   "metadata": {
    "colab": {},
    "colab_type": "code",
    "id": "YjrnxkTJsB1B"
   },
   "outputs": [],
   "source": [
    "# Preprocessing your data\n",
    "data_csv = data_csv.dropna()\n",
    "dataset = data_csv.values\n",
    "dataset = dataset.astype('float32')\n",
    "max_value = np.max(dataset)\n",
    "min_value = np.min(dataset)\n",
    "scalar = max_value - min_value\n",
    "dataset = list(map(lambda x: x / scalar, dataset))"
   ]
  },
  {
   "cell_type": "code",
   "execution_count": 6,
   "metadata": {
    "colab": {},
    "colab_type": "code",
    "id": "0mEdIjmHsNyU"
   },
   "outputs": [],
   "source": [
    "# Creating your data set to be used by LSTM - Note the argument look_back\n",
    "def create_dataset(dataset, look_back=2):\n",
    "    dataX, dataY = [], []\n",
    "    for i in range(len(dataset) - look_back):\n",
    "        a = dataset[i:(i + look_back)]\n",
    "        dataX.append(a)\n",
    "        dataY.append(dataset[i + look_back])\n",
    "    return np.array(dataX), np.array(dataY)"
   ]
  },
  {
   "cell_type": "code",
   "execution_count": 7,
   "metadata": {
    "colab": {},
    "colab_type": "code",
    "id": "2fy1zwXEsS4j"
   },
   "outputs": [],
   "source": [
    "data_X, data_Y = create_dataset(dataset)"
   ]
  },
  {
   "cell_type": "code",
   "execution_count": 8,
   "metadata": {
    "colab": {},
    "colab_type": "code",
    "id": "A0O_1_EqsXWn"
   },
   "outputs": [],
   "source": [
    "# Creating a train and test set\n",
    "train_size = int(len(data_X) * 0.7)\n",
    "test_size = len(data_X) - train_size\n",
    "train_X = data_X[:train_size]\n",
    "train_Y = data_Y[:train_size]\n",
    "test_X = data_X[train_size:]\n",
    "test_Y = data_Y[train_size:]"
   ]
  },
  {
   "cell_type": "code",
   "execution_count": 9,
   "metadata": {
    "colab": {},
    "colab_type": "code",
    "id": "5xhqV7ebsbaN"
   },
   "outputs": [],
   "source": [
    "# Reshaping the data to use with LSTM\n",
    "train_X = train_X.reshape(-1, 1, 2)\n",
    "train_Y = train_Y.reshape(-1, 1, 1)\n",
    "test_X = test_X.reshape(-1, 1, 2)\n",
    "\n",
    "train_x = torch.from_numpy(train_X)\n",
    "train_y = torch.from_numpy(train_Y)\n",
    "test_x = torch.from_numpy(test_X)"
   ]
  },
  {
   "cell_type": "markdown",
   "metadata": {
    "colab_type": "text",
    "id": "Fp1ybvvlnvGi"
   },
   "source": [
    "### Modify the number of hidden layers to 1, 2, and 3 and see the performance of your network, report your results at the end of this notebook as a plot for varying number of hidden layers"
   ]
  },
  {
   "cell_type": "code",
   "execution_count": 10,
   "metadata": {
    "colab": {},
    "colab_type": "code",
    "id": "f4ITT9ONskmg"
   },
   "outputs": [],
   "source": [
    "# Defining the LSTM module\n",
    "class lstm_reg(nn.Module):\n",
    "    def __init__(self, input_size, hidden_size, output_size=1, num_layers=2):\n",
    "        super(lstm_reg, self).__init__()\n",
    "        \n",
    "        self.rnn = nn.LSTM(input_size, hidden_size, num_layers) # LSTM-rnn\n",
    "        self.reg = nn.Linear(hidden_size, output_size) #\n",
    "        \n",
    "    def forward(self, x):\n",
    "        x, _ = self.rnn(x) # (seq, batch, hidden)\n",
    "        s, b, h = x.shape\n",
    "        x = x.view(s*b, h) \n",
    "        x = self.reg(x)\n",
    "        x = x.view(s, b, -1)\n",
    "        return x"
   ]
  },
  {
   "cell_type": "markdown",
   "metadata": {
    "colab_type": "text",
    "id": "HShUBbkEoG26"
   },
   "source": [
    "### See how does the performance of the LSTM network varies with varying learning rate, it is lr here. Try making the learning rate large and small and compare the results. You can assume 1e-2 below is optimum, so you can choose a large and a small value accordingly. Report the results as a plot at the end."
   ]
  },
  {
   "cell_type": "code",
   "execution_count": 11,
   "metadata": {
    "colab": {},
    "colab_type": "code",
    "id": "wVk4Ubi7s671"
   },
   "outputs": [],
   "source": [
    "# Configure your network to be executed\n",
    "#Given Learning Rate\n",
    "net = lstm_reg(2, 4)\n",
    "criterion = nn.MSELoss()\n",
    "optimizer = torch.optim.Adam(net.parameters(), lr=1e-2)\n",
    "epochs = 10\n",
    "losses0 = np.zeros(epochs)\n",
    "for e in range(epochs):\n",
    "    var_x = Variable(train_x)\n",
    "    var_y = Variable(train_y)\n",
    "  \n",
    "    out = net(var_x)\n",
    "    loss = criterion(out, var_y)\n",
    "    \n",
    "    optimizer.zero_grad()\n",
    "    loss.backward()\n",
    "    optimizer.step()\n",
    "    \n",
    "    losses0[e] += loss.data "
   ]
  },
  {
   "cell_type": "code",
   "execution_count": 12,
   "metadata": {},
   "outputs": [],
   "source": [
    "#Large Learning Rate \n",
    "net = lstm_reg(2, 4)\n",
    "criterion = nn.MSELoss()\n",
    "optimizer = torch.optim.Adam(net.parameters(), lr=3)\n",
    "epochs = 10\n",
    "losses1 = np.zeros(epochs)\n",
    "for e in range(epochs):\n",
    "    var_x = Variable(train_x)\n",
    "    var_y = Variable(train_y)\n",
    "  \n",
    "    out = net(var_x)\n",
    "    loss = criterion(out, var_y)\n",
    "    \n",
    "    optimizer.zero_grad()\n",
    "    loss.backward()\n",
    "    optimizer.step()\n",
    "    \n",
    "    losses1[e] += loss.data "
   ]
  },
  {
   "cell_type": "code",
   "execution_count": 13,
   "metadata": {},
   "outputs": [
    {
     "data": {
      "image/png": "[encoded data removed]",
      "text/plain": [
       "<Figure size 432x288 with 1 Axes>"
      ]
     },
     "metadata": {},
     "output_type": "display_data"
    }
   ],
   "source": [
    "#Small Learning Rate \n",
    "net = lstm_reg(2, 4)\n",
    "criterion = nn.MSELoss()\n",
    "optimizer = torch.optim.Adam(net.parameters(), lr=1e-8)\n",
    "epochs = 10\n",
    "losses2 = np.zeros(epochs)\n",
    "for e in range(epochs):\n",
    "    var_x = Variable(train_x)\n",
    "    var_y = Variable(train_y)\n",
    "  \n",
    "    out = net(var_x)\n",
    "    loss = criterion(out, var_y)\n",
    "    \n",
    "    optimizer.zero_grad()\n",
    "    loss.backward()\n",
    "    optimizer.step()\n",
    "    \n",
    "    losses2[e] += loss.data \n",
    "plt.plot(losses0)\n",
    "plt.plot(losses1)\n",
    "plt.plot(losses2)\n",
    "#plt.legend(loc=\"upper left\")\n",
    "plt.xlabel(\"Epoch\")\n",
    "plt.ylabel(\"Loss\")\n",
    "plt.show()"
   ]
  },
  {
   "cell_type": "markdown",
   "metadata": {
    "colab_type": "text",
    "id": "YCt5XyfboiKy"
   },
   "source": [
    "### Considering varying the number of total epochs to 10, 100, 1000 and see the effect on the predictions. Note down the time takes for 10, 100 and 1000 epochs to complete."
   ]
  },
  {
   "cell_type": "code",
   "execution_count": 14,
   "metadata": {
    "colab": {},
    "colab_type": "code",
    "id": "F2cTx4gjs88e"
   },
   "outputs": [],
   "source": [
    "# Train your LSTM using the criteria and optimizer defined above\n",
    "epochs = 10\n",
    "for e in range(epochs):\n",
    "    var_x = Variable(train_x)\n",
    "    var_y = Variable(train_y)\n",
    "  \n",
    "    out = net(var_x)\n",
    "    loss = criterion(out, var_y)\n",
    "    \n",
    "    optimizer.zero_grad()\n",
    "    loss.backward()\n",
    "    optimizer.step()    "
   ]
  },
  {
   "cell_type": "code",
   "execution_count": 15,
   "metadata": {},
   "outputs": [
    {
     "name": "stdout",
     "output_type": "stream",
     "text": [
      "[0.21532418 0.19232984 0.17107506 0.15149739 0.13349196 0.11691894\n",
      " 0.10161564 0.08741809 0.07420177 0.06192657]\n"
     ]
    }
   ],
   "source": [
    "#1 Hidden Layers\n",
    "net = lstm_reg(2, 4, num_layers=1)\n",
    "criterion = nn.MSELoss()\n",
    "optimizer = torch.optim.Adam(net.parameters(), lr=1e-2)\n",
    "epochs = 10\n",
    "losses3 = np.zeros(epochs)\n",
    "for e in range(epochs):\n",
    "    var_x = Variable(train_x)\n",
    "    var_y = Variable(train_y)\n",
    "  \n",
    "    out = net(var_x)\n",
    "    loss = criterion(out, var_y)\n",
    "    \n",
    "    optimizer.zero_grad()\n",
    "    loss.backward()\n",
    "    optimizer.step()\n",
    "    \n",
    "    losses3[e] += loss.data \n",
    "print(losses3)"
   ]
  },
  {
   "cell_type": "code",
   "execution_count": 16,
   "metadata": {},
   "outputs": [
    {
     "name": "stdout",
     "output_type": "stream",
     "text": [
      "[0.23095961 0.19572189 0.16733198 0.14374878 0.12347034 0.1056313\n",
      " 0.08974633 0.0755435  0.06287938 0.05169892]\n"
     ]
    }
   ],
   "source": [
    "#2 Hidden Layers\n",
    "net = lstm_reg(2, 4, num_layers=2)\n",
    "criterion = nn.MSELoss()\n",
    "optimizer = torch.optim.Adam(net.parameters(), lr=1e-2)\n",
    "epochs = 10\n",
    "losses4 = np.zeros(epochs)\n",
    "for e in range(epochs):\n",
    "    var_x = Variable(train_x)\n",
    "    var_y = Variable(train_y)\n",
    "  \n",
    "    out = net(var_x)\n",
    "    loss = criterion(out, var_y)\n",
    "    \n",
    "    optimizer.zero_grad()\n",
    "    loss.backward()\n",
    "    optimizer.step()\n",
    "    \n",
    "    losses4[e] += loss.data \n",
    "print(losses4)"
   ]
  },
  {
   "cell_type": "code",
   "execution_count": 18,
   "metadata": {},
   "outputs": [
    {
     "name": "stdout",
     "output_type": "stream",
     "text": [
      "[0.21532418 0.19232984 0.17107506 0.15149739 0.13349196 0.11691894\n",
      " 0.10161564 0.08741809 0.07420177 0.06192657]\n",
      "[0.23095961 0.19572189 0.16733198 0.14374878 0.12347034 0.1056313\n",
      " 0.08974633 0.0755435  0.06287938 0.05169892]\n",
      "[0.02177376 0.02031077 0.02105518 0.02099074 0.02048029 0.02030998\n",
      " 0.02049178 0.02066779 0.02063661 0.0204662 ]\n"
     ]
    },
    {
     "data": {
      "image/png": "[encoded data removed]",
      "text/plain": [
       "<Figure size 432x288 with 1 Axes>"
      ]
     },
     "metadata": {},
     "output_type": "display_data"
    }
   ],
   "source": [
    "#3 Hidden Layers\n",
    "net = lstm_reg(2, 4, num_layers=3)\n",
    "criterion = nn.MSELoss()\n",
    "optimizer = torch.optim.Adam(net.parameters(), lr=1e-2)\n",
    "epochs = 10\n",
    "losses5 = np.zeros(epochs)\n",
    "for e in range(epochs):\n",
    "    var_x = Variable(train_x)\n",
    "    var_y = Variable(train_y)\n",
    "  \n",
    "    out = net(var_x)\n",
    "    loss = criterion(out, var_y)\n",
    "    \n",
    "    optimizer.zero_grad()\n",
    "    loss.backward()\n",
    "    optimizer.step()\n",
    "    \n",
    "    losses5[e] += loss.data \n",
    "\n",
    "print(losses3)\n",
    "print(losses4)\n",
    "print(losses5)\n",
    "plt.plot(losses3)\n",
    "plt.plot(losses4)\n",
    "plt.plot(losses5)\n",
    "plt.show()"
   ]
  },
  {
   "cell_type": "code",
   "execution_count": 19,
   "metadata": {
    "colab": {},
    "colab_type": "code",
    "id": "P9g58BNuuRPr"
   },
   "outputs": [],
   "source": [
    "# Get the network ready to be evaluated\n",
    "net = net.eval()"
   ]
  },
  {
   "cell_type": "code",
   "execution_count": 20,
   "metadata": {
    "colab": {},
    "colab_type": "code",
    "id": "piqkVpibuVo1"
   },
   "outputs": [],
   "source": [
    "# Passing the test data to the network\n",
    "data_X = data_X.reshape(-1, 1, 2)\n",
    "data_X = torch.from_numpy(data_X)\n",
    "var_data = Variable(data_X)\n",
    "pred_test = net(var_data)"
   ]
  },
  {
   "cell_type": "code",
   "execution_count": 21,
   "metadata": {
    "colab": {},
    "colab_type": "code",
    "id": "gLbH_y3IuZVa"
   },
   "outputs": [],
   "source": [
    "pred_test = pred_test.view(-1).data.numpy()"
   ]
  },
  {
   "cell_type": "code",
   "execution_count": 22,
   "metadata": {
    "colab": {},
    "colab_type": "code",
    "id": "xB4kZJTQugYy"
   },
   "outputs": [
    {
     "data": {
      "text/plain": [
       "<matplotlib.legend.Legend at 0x11e4630f0>"
      ]
     },
     "execution_count": 22,
     "metadata": {},
     "output_type": "execute_result"
    },
    {
     "data": {
      "image/png": "[encoded data removed]",
      "text/plain": [
       "<Figure size 432x288 with 1 Axes>"
      ]
     },
     "metadata": {},
     "output_type": "display_data"
    }
   ],
   "source": [
    "# Plot the real and predicted values\n",
    "plt.plot(pred_test, 'r', label='prediction')\n",
    "plt.plot(dataset, 'b', label='real')\n",
    "plt.legend(loc='best')"
   ]
  },
  {
   "cell_type": "code",
   "execution_count": 34,
   "metadata": {},
   "outputs": [],
   "source": [
    "#Considering varying the number of total epochs to 10, 100, 1000 and see the effect on the \n",
    "#predictions. Note down the time takes for 10, 100 and 1000 epochs to complete.\n",
    "data_X, data_Y = create_dataset(dataset)\n",
    "\n",
    "# Creating a train and test set\n",
    "train_size = int(len(data_X) * 0.7)\n",
    "test_size = len(data_X) - train_size\n",
    "train_X = data_X[:train_size]\n",
    "train_Y = data_Y[:train_size]\n",
    "test_X = data_X[train_size:]\n",
    "test_Y = data_Y[train_size:]\n",
    "\n",
    "# Reshaping the data to use with LSTM\n",
    "train_X = train_X.reshape(-1, 1, 2)\n",
    "train_Y = train_Y.reshape(-1, 1, 1)\n",
    "test_X = test_X.reshape(-1, 1, 2)\n",
    "\n",
    "train_x = torch.from_numpy(train_X)\n",
    "train_y = torch.from_numpy(train_Y)\n",
    "test_x = torch.from_numpy(test_X)"
   ]
  },
  {
   "cell_type": "code",
   "execution_count": 24,
   "metadata": {},
   "outputs": [
    {
     "name": "stdout",
     "output_type": "stream",
     "text": [
      "14.208745956420898\n"
     ]
    },
    {
     "data": {
      "image/png": "[encoded data removed]",
      "text/plain": [
       "<Figure size 432x288 with 1 Axes>"
      ]
     },
     "metadata": {},
     "output_type": "display_data"
    }
   ],
   "source": [
    "#10 epochs\n",
    "import time \n",
    "start = time.time()\n",
    "\n",
    "net = lstm_reg(2, 4)\n",
    "criterion = nn.MSELoss()\n",
    "optimizer = torch.optim.Adam(net.parameters(), lr=1e-2)\n",
    "\n",
    "epochs = 10\n",
    "#losses6 = np.zeros(epochs)\n",
    "for e in range(epochs):\n",
    "    var_x = Variable(train_x)\n",
    "    var_y = Variable(train_y)\n",
    "  \n",
    "    out = net(var_x)\n",
    "    loss = criterion(out, var_y)\n",
    "    \n",
    "    optimizer.zero_grad()\n",
    "    loss.backward()\n",
    "    optimizer.step()\n",
    "    \n",
    "net = net.eval()\n",
    "\n",
    "# Passing the test data to the network\n",
    "data_X = data_X.reshape(-1, 1, 2)\n",
    "data_X = torch.from_numpy(data_X)\n",
    "var_data = Variable(data_X)\n",
    "pred_test = net(var_data)\n",
    "\n",
    "pred_test = pred_test.view(-1).data.numpy()\n",
    "\n",
    "#Plot the real and predicted values\n",
    "plt.plot(dataset, 'b', label='real')\n",
    "plt.plot(pred_test, 'r', label='prediction')\n",
    "plt.legend(loc='best')\n",
    "    \n",
    "end = time.time()\n",
    "print(end - start)"
   ]
  },
  {
   "cell_type": "code",
   "execution_count": 28,
   "metadata": {},
   "outputs": [
    {
     "name": "stdout",
     "output_type": "stream",
     "text": [
      "130.69092988967896\n"
     ]
    },
    {
     "data": {
      "image/png": "[encoded data removed]",
      "text/plain": [
       "<Figure size 432x288 with 1 Axes>"
      ]
     },
     "metadata": {},
     "output_type": "display_data"
    }
   ],
   "source": [
    "#100 epochs\n",
    "import time \n",
    "start = time.time()\n",
    "\n",
    "net = lstm_reg(2, 4)\n",
    "criterion = nn.MSELoss()\n",
    "optimizer = torch.optim.Adam(net.parameters(), lr=1e-2)\n",
    "\n",
    "epochs = 100\n",
    "for e in range(epochs):\n",
    "    var_x = Variable(train_x)\n",
    "    var_y = Variable(train_y)\n",
    "  \n",
    "    out = net(var_x)\n",
    "    loss = criterion(out, var_y)\n",
    "    \n",
    "    optimizer.zero_grad()\n",
    "    loss.backward()\n",
    "    optimizer.step()\n",
    "    \n",
    "net = net.eval()\n",
    "\n",
    "# Passing the test data to the network\n",
    "data_X = data_X.reshape(-1, 1, 2)\n",
    "data_X = torch.from_numpy(data_X)\n",
    "var_data = Variable(data_X)\n",
    "pred_test = net(var_data)\n",
    "\n",
    "pred_test = pred_test.view(-1).data.numpy()\n",
    "\n",
    "#Plot the real and predicted values\n",
    "plt.plot(dataset, 'b', label='real')\n",
    "plt.plot(pred_test, 'r', label='prediction')\n",
    "plt.legend(loc='best')\n",
    "    \n",
    "end = time.time()\n",
    "print(end - start)"
   ]
  },
  {
   "cell_type": "code",
   "execution_count": 35,
   "metadata": {},
   "outputs": [
    {
     "name": "stdout",
     "output_type": "stream",
     "text": [
      "1324.0633759498596\n"
     ]
    },
    {
     "data": {
      "image/png": "[encoded data removed]",
      "text/plain": [
       "<Figure size 432x288 with 1 Axes>"
      ]
     },
     "metadata": {},
     "output_type": "display_data"
    }
   ],
   "source": [
    "#1000 epochs\n",
    "import time \n",
    "start = time.time()\n",
    "\n",
    "net = lstm_reg(2, 4)\n",
    "criterion = nn.MSELoss()\n",
    "optimizer = torch.optim.Adam(net.parameters(), lr=1e-2)\n",
    "\n",
    "epochs = 1000\n",
    "#losses6 = np.zeros(epochs)\n",
    "for e in range(epochs):\n",
    "    var_x = Variable(train_x)\n",
    "    var_y = Variable(train_y)\n",
    "  \n",
    "    out = net(var_x)\n",
    "    loss = criterion(out, var_y)\n",
    "    \n",
    "    optimizer.zero_grad()\n",
    "    loss.backward()\n",
    "    optimizer.step()\n",
    "    \n",
    "net = net.eval()\n",
    "\n",
    "# Passing the test data to the network\n",
    "data_X = data_X.reshape(-1, 1, 2)\n",
    "data_X = torch.from_numpy(data_X)\n",
    "var_data = Variable(data_X)\n",
    "pred_test = net(var_data)\n",
    "\n",
    "pred_test = pred_test.view(-1).data.numpy()\n",
    "\n",
    "#Plot the real and predicted values\n",
    "plt.plot(dataset, 'b', label='real')\n",
    "plt.plot(pred_test, 'r', label='prediction')\n",
    "plt.legend(loc='best')\n",
    "    \n",
    "end = time.time()\n",
    "print(end - start)"
   ]
  },
  {
   "cell_type": "markdown",
   "metadata": {},
   "source": [
    "The 1000 epochs has the closest prediction vs. real. "
   ]
  },
  {
   "cell_type": "code",
   "execution_count": null,
   "metadata": {},
   "outputs": [],
   "source": []
  }
 ],
 "metadata": {
  "colab": {
   "name": "Lab 3.ipynb",
   "provenance": [],
   "version": "0.3.2"
  },
  "kernelspec": {
   "display_name": "Python 3",
   "language": "python",
   "name": "python3"
  },
  "language_info": {
   "codemirror_mode": {
    "name": "ipython",
    "version": 3
   },
   "file_extension": ".py",
   "mimetype": "text/x-python",
   "name": "python",
   "nbconvert_exporter": "python",
   "pygments_lexer": "ipython3",
   "version": "3.6.8"
  }
 },
 "nbformat": 4,
 "nbformat_minor": 1
}
