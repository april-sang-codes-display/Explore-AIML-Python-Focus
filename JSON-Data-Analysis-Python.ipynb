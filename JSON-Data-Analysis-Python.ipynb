{
 "cells": [
  {
   "cell_type": "code",
   "execution_count": 2,
   "metadata": {
    "scrolled": true
   },
   "outputs": [
    {
     "name": "stdout",
     "output_type": "stream",
     "text": [
      "ON\n"
     ]
    }
   ],
   "source": [
    "#Using json library in Python to process JSON data and print out the largest value of the dataset. \n",
    "import json\n",
    "\n",
    "with open(\"provdata.json.txt\", \"r\") as infile:\n",
    "    datastore = json.load(infile)\n",
    "#Use the new datastore datastructure\n",
    "#print(datastore[\"data\"])\n",
    "bc=float(datastore[\"data\"][0]['BC'])\n",
    "ab=float(datastore[\"data\"][1]['AB'])\n",
    "on=float(datastore[\"data\"][2]['ON'])\n",
    "mb=float(datastore[\"data\"][3]['MB'])\n",
    "sk=float(datastore[\"data\"][4]['SK'])\n",
    "\n",
    "if bc > ab and bc > on and bc > mb and bc > sk:\n",
    "    print(datastore[\"data\"][0][\"British Columbia\"])\n",
    "elif ab > bc and ab > on and ab > mb and ab > sk:\n",
    "    print(datastore[\"data\"][1][\"Alberta\"])\n",
    "elif on > bc and on > ab and on > mb and on > sk:\n",
    "    print(datastore[\"data\"][2][\"Ontario\"])\n",
    "elif mb > bc and mb > ab and mb > on and mb > sk:    \n",
    "    print(datastore[\"data\"][3][\"Manitoba\"])\n",
    "elif sk > bc and sk > ab and sk > on and sk > mb:    \n",
    "    print(datastore[\"data\"][4][\"Saskatchewan\"])"
   ]
  },
  {
   "cell_type": "code",
   "execution_count": null,
   "metadata": {},
   "outputs": [],
   "source": []
  }
 ],
 "metadata": {
  "kernelspec": {
   "display_name": "Python 3",
   "language": "python",
   "name": "python3"
  },
  "language_info": {
   "codemirror_mode": {
    "name": "ipython",
    "version": 3
   },
   "file_extension": ".py",
   "mimetype": "text/x-python",
   "name": "python",
   "nbconvert_exporter": "python",
   "pygments_lexer": "ipython3",
   "version": "3.6.8"
  }
 },
 "nbformat": 4,
 "nbformat_minor": 2
}
